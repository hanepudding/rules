{
 "cells": [
  {
   "cell_type": "code",
   "execution_count": 1,
   "metadata": {},
   "outputs": [],
   "source": [
    "def convert_list_to_yaml(list_file, yaml_file):\n",
    "    with open(list_file, 'r') as lf, open(yaml_file, 'w') as yf:\n",
    "        yf.write('payload:\\n')\n",
    "        for line in lf:\n",
    "            yf.write(f\"  - {line.strip()}\\n\")\n",
    "\n",
    "# 使用源文件和目标文件的路径\n",
    "convert_list_to_yaml('CNServices.list', 'CNServices.yaml')"
   ]
  }
 ],
 "metadata": {
  "kernelspec": {
   "display_name": "Python 3",
   "language": "python",
   "name": "python3"
  },
  "language_info": {
   "codemirror_mode": {
    "name": "ipython",
    "version": 3
   },
   "file_extension": ".py",
   "mimetype": "text/x-python",
   "name": "python",
   "nbconvert_exporter": "python",
   "pygments_lexer": "ipython3",
   "version": "3.12.5"
  }
 },
 "nbformat": 4,
 "nbformat_minor": 2
}
